{
 "cells": [
  {
   "cell_type": "code",
   "execution_count": 1,
   "id": "6b31a753-4927-4dd5-a6a5-8f24f125e63d",
   "metadata": {
    "scrolled": true
   },
   "outputs": [
    {
     "name": "stdout",
     "output_type": "stream",
     "text": [
      "Requirement already satisfied: mysql-connector-python in c:\\users\\aryam\\miniconda3\\lib\\site-packages (9.0.0)\n",
      "Collecting sqlalchemy\n",
      "  Downloading SQLAlchemy-2.0.32-cp312-cp312-win_amd64.whl.metadata (9.8 kB)\n",
      "Requirement already satisfied: pandas in c:\\users\\aryam\\miniconda3\\lib\\site-packages (2.2.2)\n",
      "Requirement already satisfied: matplotlib in c:\\users\\aryam\\miniconda3\\lib\\site-packages (3.8.4)\n",
      "Requirement already satisfied: seaborn in c:\\users\\aryam\\miniconda3\\lib\\site-packages (0.13.2)\n",
      "Requirement already satisfied: typing-extensions>=4.6.0 in c:\\users\\aryam\\miniconda3\\lib\\site-packages (from sqlalchemy) (4.11.0)\n",
      "Collecting greenlet!=0.4.17 (from sqlalchemy)\n",
      "  Downloading greenlet-3.0.3-cp312-cp312-win_amd64.whl.metadata (3.9 kB)\n",
      "Requirement already satisfied: numpy>=1.26.0 in c:\\users\\aryam\\miniconda3\\lib\\site-packages (from pandas) (1.26.4)\n",
      "Requirement already satisfied: python-dateutil>=2.8.2 in c:\\users\\aryam\\miniconda3\\lib\\site-packages (from pandas) (2.9.0.post0)\n",
      "Requirement already satisfied: pytz>=2020.1 in c:\\users\\aryam\\miniconda3\\lib\\site-packages (from pandas) (2024.1)\n",
      "Requirement already satisfied: tzdata>=2022.7 in c:\\users\\aryam\\miniconda3\\lib\\site-packages (from pandas) (2024.1)\n",
      "Requirement already satisfied: contourpy>=1.0.1 in c:\\users\\aryam\\miniconda3\\lib\\site-packages (from matplotlib) (1.2.1)\n",
      "Requirement already satisfied: cycler>=0.10 in c:\\users\\aryam\\miniconda3\\lib\\site-packages (from matplotlib) (0.12.1)\n",
      "Requirement already satisfied: fonttools>=4.22.0 in c:\\users\\aryam\\miniconda3\\lib\\site-packages (from matplotlib) (4.51.0)\n",
      "Requirement already satisfied: kiwisolver>=1.3.1 in c:\\users\\aryam\\miniconda3\\lib\\site-packages (from matplotlib) (1.4.5)\n",
      "Requirement already satisfied: packaging>=20.0 in c:\\users\\aryam\\miniconda3\\lib\\site-packages (from matplotlib) (23.2)\n",
      "Requirement already satisfied: pillow>=8 in c:\\users\\aryam\\miniconda3\\lib\\site-packages (from matplotlib) (10.3.0)\n",
      "Requirement already satisfied: pyparsing>=2.3.1 in c:\\users\\aryam\\miniconda3\\lib\\site-packages (from matplotlib) (3.1.2)\n",
      "Requirement already satisfied: six>=1.5 in c:\\users\\aryam\\miniconda3\\lib\\site-packages (from python-dateutil>=2.8.2->pandas) (1.16.0)\n",
      "Downloading SQLAlchemy-2.0.32-cp312-cp312-win_amd64.whl (2.1 MB)\n",
      "   ---------------------------------------- 0.0/2.1 MB ? eta -:--:--\n",
      "   --- ------------------------------------ 0.2/2.1 MB 5.3 MB/s eta 0:00:01\n",
      "   ------------- -------------------------- 0.7/2.1 MB 9.1 MB/s eta 0:00:01\n",
      "   ----------------- ---------------------- 0.9/2.1 MB 7.1 MB/s eta 0:00:01\n",
      "   --------------------- ------------------ 1.1/2.1 MB 5.8 MB/s eta 0:00:01\n",
      "   --------------------- ------------------ 1.1/2.1 MB 5.9 MB/s eta 0:00:01\n",
      "   --------------------- ------------------ 1.1/2.1 MB 5.9 MB/s eta 0:00:01\n",
      "   ----------------------- ---------------- 1.2/2.1 MB 3.7 MB/s eta 0:00:01\n",
      "   ----------------------------------- ---- 1.9/2.1 MB 4.9 MB/s eta 0:00:01\n",
      "   ---------------------------------------  2.1/2.1 MB 4.9 MB/s eta 0:00:01\n",
      "   ---------------------------------------- 2.1/2.1 MB 4.3 MB/s eta 0:00:00\n",
      "Downloading greenlet-3.0.3-cp312-cp312-win_amd64.whl (293 kB)\n",
      "   ---------------------------------------- 0.0/293.6 kB ? eta -:--:--\n",
      "   -------------------------------- ------- 235.5/293.6 kB 7.3 MB/s eta 0:00:01\n",
      "   ---------------------------------------- 293.6/293.6 kB 3.6 MB/s eta 0:00:00\n",
      "Installing collected packages: greenlet, sqlalchemy\n",
      "Successfully installed greenlet-3.0.3 sqlalchemy-2.0.32\n"
     ]
    }
   ],
   "source": [
    "!pip install mysql-connector-python sqlalchemy pandas matplotlib seaborn"
   ]
  },
  {
   "cell_type": "code",
   "execution_count": 2,
   "id": "b43cf117-f46a-48c4-8000-b77df1ecea74",
   "metadata": {},
   "outputs": [],
   "source": [
    "import pandas as pd \n",
    "import matplotlib.pyplot as plt \n",
    "import seaborn as sns\n",
    "import mysql.connector as my_sqln"
   ]
  },
  {
   "cell_type": "markdown",
   "id": "237c97ea-215a-40e3-a5e4-f1c5ec32dcdd",
   "metadata": {},
   "source": [
    "## Connecting Database,"
   ]
  },
  {
   "cell_type": "code",
   "execution_count": 5,
   "id": "cdfa97ed-d0eb-4799-89fc-0b174642198d",
   "metadata": {},
   "outputs": [],
   "source": [
    "connection = my_sql.connect(\n",
    "    host = 'localhost',\n",
    "    user = 'root',\n",
    "    password = 'mysql',\n",
    "    database = 'rentalproperty'\n",
    ")"
   ]
  },
  {
   "cell_type": "code",
   "execution_count": 6,
   "id": "476557dd-43a9-482f-b0f5-f92dda7013dd",
   "metadata": {},
   "outputs": [],
   "source": [
    "cursor = connection.cursor()"
   ]
  },
  {
   "cell_type": "code",
   "execution_count": 7,
   "id": "34e5a1e7-99c2-492d-8d46-90d3cb1a5075",
   "metadata": {},
   "outputs": [],
   "source": [
    "query = \"SELECT * FROM PROPINFO;\""
   ]
  },
  {
   "cell_type": "code",
   "execution_count": 8,
   "id": "7fb28f79-3203-4293-a3c1-e204b5eed99a",
   "metadata": {},
   "outputs": [],
   "source": [
    "cursor.execute(query)"
   ]
  },
  {
   "cell_type": "code",
   "execution_count": 9,
   "id": "3220fc21-74fb-492b-9e7b-85ea28576fa6",
   "metadata": {},
   "outputs": [],
   "source": [
    "results = cursor.fetchall()"
   ]
  },
  {
   "cell_type": "code",
   "execution_count": 10,
   "id": "e0694d14-b2f8-4aa1-8ee6-48ddd149dedb",
   "metadata": {
    "scrolled": true
   },
   "outputs": [
    {
     "name": "stdout",
     "output_type": "stream",
     "text": [
      "[(2001, 1200, 1800, 2015, 'MG Road, Bangalore, Karnataka, 560001', 5, datetime.date(2024, 9, 1), 'Bangalore', 20000, 3, 1001, 1001, 1, 0), (2002, 900, 1300, 2018, 'Brigade Road, Bangalore, Karnataka, 560002', 3, datetime.date(2024, 10, 1), 'Bangalore', 15000, 2, 1002, 1002, 1, 0), (2003, 1500, 2200, 2017, 'Church Street, Bangalore, Karnataka, 560003', 4, datetime.date(2024, 11, 1), 'Bangalore', 25000, 4, 1003, 1003, 1, 0), (2004, 1100, 1600, 2020, 'Ulsoor, Bangalore, Karnataka, 560004', 2, datetime.date(2024, 12, 1), 'Bangalore', 12000, 3, 1004, 1004, 1, 0), (2005, 950, 1400, 2016, 'Jayanagar, Bangalore, Karnataka, 560005', 6, datetime.date(2024, 9, 15), 'Bangalore', 17000, 2, 1005, 1005, 1, 0), (2006, 1300, 2000, 2019, 'Koramangala, Bangalore, Karnataka, 560006', 3, datetime.date(2024, 10, 15), 'Bangalore', 23000, 3, 1006, 1006, 1, 0), (2007, 1400, 2100, 2021, 'Indiranagar, Bangalore, Karnataka, 560007', 5, datetime.date(2024, 11, 15), 'Bangalore', 24000, 4, 1007, 1007, 1, 0), (2008, 1000, 1500, 2018, 'Whitefield, Bangalore, Karnataka, 560008', 2, datetime.date(2024, 12, 15), 'Bangalore', 14000, 2, 1008, 1008, 1, 0), (2009, 1250, 1900, 2020, 'Marathahalli, Bangalore, Karnataka, 560009', 4, datetime.date(2024, 9, 30), 'Bangalore', 20000, 3, 1009, 1009, 1, 0), (2010, 1150, 1700, 2022, 'Bellandur, Bangalore, Karnataka, 560010', 6, datetime.date(2024, 10, 30), 'Bangalore', 18000, 2, 1010, 1010, 1, 0)]\n"
     ]
    }
   ],
   "source": [
    "print(results)"
   ]
  },
  {
   "cell_type": "code",
   "execution_count": 11,
   "id": "35710fad-391d-46a2-bd4c-a72805bd5035",
   "metadata": {
    "scrolled": true
   },
   "outputs": [
    {
     "data": {
      "text/plain": [
       "[('propID', 3, None, None, None, None, 0, 53251, 63),\n",
       " ('plinth_Ar', 3, None, None, None, None, 0, 36865, 63),\n",
       " ('TotAr', 3, None, None, None, None, 0, 36865, 63),\n",
       " ('Year_of_Cons', 3, None, None, None, None, 0, 36865, 63),\n",
       " ('Addr', 253, None, None, None, None, 1, 0, 255),\n",
       " ('No_of_floor', 3, None, None, None, None, 1, 32768, 63),\n",
       " ('Date_avail', 10, None, None, None, None, 1, 128, 63),\n",
       " ('loc', 253, None, None, None, None, 1, 0, 255),\n",
       " ('rpm', 3, None, None, None, None, 1, 32768, 63),\n",
       " ('No_of_rooms', 3, None, None, None, None, 1, 32768, 63),\n",
       " ('manid', 3, None, None, None, None, 1, 49160, 63),\n",
       " ('ownid', 3, None, None, None, None, 1, 49160, 63),\n",
       " ('is_resi', 3, None, None, None, None, 1, 32768, 63),\n",
       " ('is_comer', 3, None, None, None, None, 1, 32768, 63)]"
      ]
     },
     "execution_count": 11,
     "metadata": {},
     "output_type": "execute_result"
    }
   ],
   "source": [
    "cursor.description"
   ]
  },
  {
   "cell_type": "code",
   "execution_count": 14,
   "id": "6db227ac-bc9f-4932-a5c8-d30218bcff3c",
   "metadata": {},
   "outputs": [],
   "source": [
    "# Converting results to a DataFrame for easy manipulation\n",
    "columns = [i[0] for i in cursor.description] #list comprehension"
   ]
  },
  {
   "cell_type": "code",
   "execution_count": 15,
   "id": "bb60bcd9-0406-45ae-80f3-934b4b7815d0",
   "metadata": {},
   "outputs": [],
   "source": [
    "df = pd.DataFrame(results, columns = columns)"
   ]
  },
  {
   "cell_type": "code",
   "execution_count": 16,
   "id": "5043f3f7-3b3b-48b2-b3a3-60914e0f8a30",
   "metadata": {
    "scrolled": true
   },
   "outputs": [
    {
     "name": "stdout",
     "output_type": "stream",
     "text": [
      "   propID  plinth_Ar  TotAr  Year_of_Cons  \\\n",
      "0    2001       1200   1800          2015   \n",
      "1    2002        900   1300          2018   \n",
      "2    2003       1500   2200          2017   \n",
      "3    2004       1100   1600          2020   \n",
      "4    2005        950   1400          2016   \n",
      "5    2006       1300   2000          2019   \n",
      "6    2007       1400   2100          2021   \n",
      "7    2008       1000   1500          2018   \n",
      "8    2009       1250   1900          2020   \n",
      "9    2010       1150   1700          2022   \n",
      "\n",
      "                                          Addr  No_of_floor  Date_avail  \\\n",
      "0        MG Road, Bangalore, Karnataka, 560001            5  2024-09-01   \n",
      "1   Brigade Road, Bangalore, Karnataka, 560002            3  2024-10-01   \n",
      "2  Church Street, Bangalore, Karnataka, 560003            4  2024-11-01   \n",
      "3         Ulsoor, Bangalore, Karnataka, 560004            2  2024-12-01   \n",
      "4      Jayanagar, Bangalore, Karnataka, 560005            6  2024-09-15   \n",
      "5    Koramangala, Bangalore, Karnataka, 560006            3  2024-10-15   \n",
      "6    Indiranagar, Bangalore, Karnataka, 560007            5  2024-11-15   \n",
      "7     Whitefield, Bangalore, Karnataka, 560008            2  2024-12-15   \n",
      "8   Marathahalli, Bangalore, Karnataka, 560009            4  2024-09-30   \n",
      "9      Bellandur, Bangalore, Karnataka, 560010            6  2024-10-30   \n",
      "\n",
      "         loc    rpm  No_of_rooms  manid  ownid  is_resi  is_comer  \n",
      "0  Bangalore  20000            3   1001   1001        1         0  \n",
      "1  Bangalore  15000            2   1002   1002        1         0  \n",
      "2  Bangalore  25000            4   1003   1003        1         0  \n",
      "3  Bangalore  12000            3   1004   1004        1         0  \n",
      "4  Bangalore  17000            2   1005   1005        1         0  \n",
      "5  Bangalore  23000            3   1006   1006        1         0  \n",
      "6  Bangalore  24000            4   1007   1007        1         0  \n",
      "7  Bangalore  14000            2   1008   1008        1         0  \n",
      "8  Bangalore  20000            3   1009   1009        1         0  \n",
      "9  Bangalore  18000            2   1010   1010        1         0  \n"
     ]
    }
   ],
   "source": [
    "print(df)"
   ]
  },
  {
   "cell_type": "code",
   "execution_count": 17,
   "id": "3d11770c-91c0-48b0-b7ca-af97945355ca",
   "metadata": {
    "scrolled": true
   },
   "outputs": [
    {
     "data": {
      "text/html": [
       "<div>\n",
       "<style scoped>\n",
       "    .dataframe tbody tr th:only-of-type {\n",
       "        vertical-align: middle;\n",
       "    }\n",
       "\n",
       "    .dataframe tbody tr th {\n",
       "        vertical-align: top;\n",
       "    }\n",
       "\n",
       "    .dataframe thead th {\n",
       "        text-align: right;\n",
       "    }\n",
       "</style>\n",
       "<table border=\"1\" class=\"dataframe\">\n",
       "  <thead>\n",
       "    <tr style=\"text-align: right;\">\n",
       "      <th></th>\n",
       "      <th>propID</th>\n",
       "      <th>plinth_Ar</th>\n",
       "      <th>TotAr</th>\n",
       "      <th>Year_of_Cons</th>\n",
       "      <th>Addr</th>\n",
       "      <th>No_of_floor</th>\n",
       "      <th>Date_avail</th>\n",
       "      <th>loc</th>\n",
       "      <th>rpm</th>\n",
       "      <th>No_of_rooms</th>\n",
       "      <th>manid</th>\n",
       "      <th>ownid</th>\n",
       "      <th>is_resi</th>\n",
       "      <th>is_comer</th>\n",
       "    </tr>\n",
       "  </thead>\n",
       "  <tbody>\n",
       "    <tr>\n",
       "      <th>0</th>\n",
       "      <td>2001</td>\n",
       "      <td>1200</td>\n",
       "      <td>1800</td>\n",
       "      <td>2015</td>\n",
       "      <td>MG Road, Bangalore, Karnataka, 560001</td>\n",
       "      <td>5</td>\n",
       "      <td>2024-09-01</td>\n",
       "      <td>Bangalore</td>\n",
       "      <td>20000</td>\n",
       "      <td>3</td>\n",
       "      <td>1001</td>\n",
       "      <td>1001</td>\n",
       "      <td>1</td>\n",
       "      <td>0</td>\n",
       "    </tr>\n",
       "    <tr>\n",
       "      <th>1</th>\n",
       "      <td>2002</td>\n",
       "      <td>900</td>\n",
       "      <td>1300</td>\n",
       "      <td>2018</td>\n",
       "      <td>Brigade Road, Bangalore, Karnataka, 560002</td>\n",
       "      <td>3</td>\n",
       "      <td>2024-10-01</td>\n",
       "      <td>Bangalore</td>\n",
       "      <td>15000</td>\n",
       "      <td>2</td>\n",
       "      <td>1002</td>\n",
       "      <td>1002</td>\n",
       "      <td>1</td>\n",
       "      <td>0</td>\n",
       "    </tr>\n",
       "    <tr>\n",
       "      <th>2</th>\n",
       "      <td>2003</td>\n",
       "      <td>1500</td>\n",
       "      <td>2200</td>\n",
       "      <td>2017</td>\n",
       "      <td>Church Street, Bangalore, Karnataka, 560003</td>\n",
       "      <td>4</td>\n",
       "      <td>2024-11-01</td>\n",
       "      <td>Bangalore</td>\n",
       "      <td>25000</td>\n",
       "      <td>4</td>\n",
       "      <td>1003</td>\n",
       "      <td>1003</td>\n",
       "      <td>1</td>\n",
       "      <td>0</td>\n",
       "    </tr>\n",
       "    <tr>\n",
       "      <th>3</th>\n",
       "      <td>2004</td>\n",
       "      <td>1100</td>\n",
       "      <td>1600</td>\n",
       "      <td>2020</td>\n",
       "      <td>Ulsoor, Bangalore, Karnataka, 560004</td>\n",
       "      <td>2</td>\n",
       "      <td>2024-12-01</td>\n",
       "      <td>Bangalore</td>\n",
       "      <td>12000</td>\n",
       "      <td>3</td>\n",
       "      <td>1004</td>\n",
       "      <td>1004</td>\n",
       "      <td>1</td>\n",
       "      <td>0</td>\n",
       "    </tr>\n",
       "    <tr>\n",
       "      <th>4</th>\n",
       "      <td>2005</td>\n",
       "      <td>950</td>\n",
       "      <td>1400</td>\n",
       "      <td>2016</td>\n",
       "      <td>Jayanagar, Bangalore, Karnataka, 560005</td>\n",
       "      <td>6</td>\n",
       "      <td>2024-09-15</td>\n",
       "      <td>Bangalore</td>\n",
       "      <td>17000</td>\n",
       "      <td>2</td>\n",
       "      <td>1005</td>\n",
       "      <td>1005</td>\n",
       "      <td>1</td>\n",
       "      <td>0</td>\n",
       "    </tr>\n",
       "    <tr>\n",
       "      <th>5</th>\n",
       "      <td>2006</td>\n",
       "      <td>1300</td>\n",
       "      <td>2000</td>\n",
       "      <td>2019</td>\n",
       "      <td>Koramangala, Bangalore, Karnataka, 560006</td>\n",
       "      <td>3</td>\n",
       "      <td>2024-10-15</td>\n",
       "      <td>Bangalore</td>\n",
       "      <td>23000</td>\n",
       "      <td>3</td>\n",
       "      <td>1006</td>\n",
       "      <td>1006</td>\n",
       "      <td>1</td>\n",
       "      <td>0</td>\n",
       "    </tr>\n",
       "    <tr>\n",
       "      <th>6</th>\n",
       "      <td>2007</td>\n",
       "      <td>1400</td>\n",
       "      <td>2100</td>\n",
       "      <td>2021</td>\n",
       "      <td>Indiranagar, Bangalore, Karnataka, 560007</td>\n",
       "      <td>5</td>\n",
       "      <td>2024-11-15</td>\n",
       "      <td>Bangalore</td>\n",
       "      <td>24000</td>\n",
       "      <td>4</td>\n",
       "      <td>1007</td>\n",
       "      <td>1007</td>\n",
       "      <td>1</td>\n",
       "      <td>0</td>\n",
       "    </tr>\n",
       "    <tr>\n",
       "      <th>7</th>\n",
       "      <td>2008</td>\n",
       "      <td>1000</td>\n",
       "      <td>1500</td>\n",
       "      <td>2018</td>\n",
       "      <td>Whitefield, Bangalore, Karnataka, 560008</td>\n",
       "      <td>2</td>\n",
       "      <td>2024-12-15</td>\n",
       "      <td>Bangalore</td>\n",
       "      <td>14000</td>\n",
       "      <td>2</td>\n",
       "      <td>1008</td>\n",
       "      <td>1008</td>\n",
       "      <td>1</td>\n",
       "      <td>0</td>\n",
       "    </tr>\n",
       "    <tr>\n",
       "      <th>8</th>\n",
       "      <td>2009</td>\n",
       "      <td>1250</td>\n",
       "      <td>1900</td>\n",
       "      <td>2020</td>\n",
       "      <td>Marathahalli, Bangalore, Karnataka, 560009</td>\n",
       "      <td>4</td>\n",
       "      <td>2024-09-30</td>\n",
       "      <td>Bangalore</td>\n",
       "      <td>20000</td>\n",
       "      <td>3</td>\n",
       "      <td>1009</td>\n",
       "      <td>1009</td>\n",
       "      <td>1</td>\n",
       "      <td>0</td>\n",
       "    </tr>\n",
       "    <tr>\n",
       "      <th>9</th>\n",
       "      <td>2010</td>\n",
       "      <td>1150</td>\n",
       "      <td>1700</td>\n",
       "      <td>2022</td>\n",
       "      <td>Bellandur, Bangalore, Karnataka, 560010</td>\n",
       "      <td>6</td>\n",
       "      <td>2024-10-30</td>\n",
       "      <td>Bangalore</td>\n",
       "      <td>18000</td>\n",
       "      <td>2</td>\n",
       "      <td>1010</td>\n",
       "      <td>1010</td>\n",
       "      <td>1</td>\n",
       "      <td>0</td>\n",
       "    </tr>\n",
       "  </tbody>\n",
       "</table>\n",
       "</div>"
      ],
      "text/plain": [
       "   propID  plinth_Ar  TotAr  Year_of_Cons  \\\n",
       "0    2001       1200   1800          2015   \n",
       "1    2002        900   1300          2018   \n",
       "2    2003       1500   2200          2017   \n",
       "3    2004       1100   1600          2020   \n",
       "4    2005        950   1400          2016   \n",
       "5    2006       1300   2000          2019   \n",
       "6    2007       1400   2100          2021   \n",
       "7    2008       1000   1500          2018   \n",
       "8    2009       1250   1900          2020   \n",
       "9    2010       1150   1700          2022   \n",
       "\n",
       "                                          Addr  No_of_floor  Date_avail  \\\n",
       "0        MG Road, Bangalore, Karnataka, 560001            5  2024-09-01   \n",
       "1   Brigade Road, Bangalore, Karnataka, 560002            3  2024-10-01   \n",
       "2  Church Street, Bangalore, Karnataka, 560003            4  2024-11-01   \n",
       "3         Ulsoor, Bangalore, Karnataka, 560004            2  2024-12-01   \n",
       "4      Jayanagar, Bangalore, Karnataka, 560005            6  2024-09-15   \n",
       "5    Koramangala, Bangalore, Karnataka, 560006            3  2024-10-15   \n",
       "6    Indiranagar, Bangalore, Karnataka, 560007            5  2024-11-15   \n",
       "7     Whitefield, Bangalore, Karnataka, 560008            2  2024-12-15   \n",
       "8   Marathahalli, Bangalore, Karnataka, 560009            4  2024-09-30   \n",
       "9      Bellandur, Bangalore, Karnataka, 560010            6  2024-10-30   \n",
       "\n",
       "         loc    rpm  No_of_rooms  manid  ownid  is_resi  is_comer  \n",
       "0  Bangalore  20000            3   1001   1001        1         0  \n",
       "1  Bangalore  15000            2   1002   1002        1         0  \n",
       "2  Bangalore  25000            4   1003   1003        1         0  \n",
       "3  Bangalore  12000            3   1004   1004        1         0  \n",
       "4  Bangalore  17000            2   1005   1005        1         0  \n",
       "5  Bangalore  23000            3   1006   1006        1         0  \n",
       "6  Bangalore  24000            4   1007   1007        1         0  \n",
       "7  Bangalore  14000            2   1008   1008        1         0  \n",
       "8  Bangalore  20000            3   1009   1009        1         0  \n",
       "9  Bangalore  18000            2   1010   1010        1         0  "
      ]
     },
     "execution_count": 17,
     "metadata": {},
     "output_type": "execute_result"
    }
   ],
   "source": [
    "df "
   ]
  },
  {
   "cell_type": "code",
   "execution_count": 18,
   "id": "4afb1e6d-bd9e-4f36-8208-11c6efdcd4ce",
   "metadata": {},
   "outputs": [
    {
     "data": {
      "text/plain": [
       "True"
      ]
     },
     "execution_count": 18,
     "metadata": {},
     "output_type": "execute_result"
    }
   ],
   "source": [
    "cursor.close()"
   ]
  },
  {
   "cell_type": "code",
   "execution_count": 20,
   "id": "547d4ecb-2c02-4635-9382-3b69e2583ddf",
   "metadata": {},
   "outputs": [],
   "source": [
    "connection.close()"
   ]
  },
  {
   "cell_type": "code",
   "execution_count": 21,
   "id": "7820f668-c621-4e49-b3a7-21980c8e8813",
   "metadata": {},
   "outputs": [
    {
     "ename": "ProgrammingError",
     "evalue": "2055: Cursor is not connected",
     "output_type": "error",
     "traceback": [
      "\u001b[1;31m---------------------------------------------------------------------------\u001b[0m",
      "\u001b[1;31mProgrammingError\u001b[0m                          Traceback (most recent call last)",
      "File \u001b[1;32m~\\miniconda3\\Lib\\site-packages\\mysql\\connector\\cursor_cext.py:327\u001b[0m, in \u001b[0;36mCMySQLCursor.execute\u001b[1;34m(self, operation, params, multi)\u001b[0m\n\u001b[0;32m    326\u001b[0m     \u001b[38;5;28;01mif\u001b[39;00m \u001b[38;5;129;01mnot\u001b[39;00m \u001b[38;5;28mself\u001b[39m\u001b[38;5;241m.\u001b[39m_connection \u001b[38;5;129;01mor\u001b[39;00m \u001b[38;5;28mself\u001b[39m\u001b[38;5;241m.\u001b[39m_connection\u001b[38;5;241m.\u001b[39mis_closed():\n\u001b[1;32m--> 327\u001b[0m         \u001b[38;5;28;01mraise\u001b[39;00m ProgrammingError\n\u001b[0;32m    328\u001b[0m \u001b[38;5;28;01mexcept\u001b[39;00m (ProgrammingError, \u001b[38;5;167;01mReferenceError\u001b[39;00m) \u001b[38;5;28;01mas\u001b[39;00m err:\n",
      "\u001b[1;31mProgrammingError\u001b[0m: Unknown error",
      "\nThe above exception was the direct cause of the following exception:\n",
      "\u001b[1;31mProgrammingError\u001b[0m                          Traceback (most recent call last)",
      "Cell \u001b[1;32mIn[21], line 1\u001b[0m\n\u001b[1;32m----> 1\u001b[0m cursor\u001b[38;5;241m.\u001b[39mexecute(query)\n",
      "File \u001b[1;32m~\\miniconda3\\Lib\\site-packages\\mysql\\connector\\cursor_cext.py:329\u001b[0m, in \u001b[0;36mCMySQLCursor.execute\u001b[1;34m(self, operation, params, multi)\u001b[0m\n\u001b[0;32m    327\u001b[0m         \u001b[38;5;28;01mraise\u001b[39;00m ProgrammingError\n\u001b[0;32m    328\u001b[0m \u001b[38;5;28;01mexcept\u001b[39;00m (ProgrammingError, \u001b[38;5;167;01mReferenceError\u001b[39;00m) \u001b[38;5;28;01mas\u001b[39;00m err:\n\u001b[1;32m--> 329\u001b[0m     \u001b[38;5;28;01mraise\u001b[39;00m ProgrammingError(\u001b[38;5;124m\"\u001b[39m\u001b[38;5;124mCursor is not connected\u001b[39m\u001b[38;5;124m\"\u001b[39m, \u001b[38;5;241m2055\u001b[39m) \u001b[38;5;28;01mfrom\u001b[39;00m \u001b[38;5;21;01merr\u001b[39;00m\n\u001b[0;32m    330\u001b[0m \u001b[38;5;28mself\u001b[39m\u001b[38;5;241m.\u001b[39m_connection\u001b[38;5;241m.\u001b[39mhandle_unread_result()\n\u001b[0;32m    332\u001b[0m stmt \u001b[38;5;241m=\u001b[39m \u001b[38;5;124mb\u001b[39m\u001b[38;5;124m\"\u001b[39m\u001b[38;5;124m\"\u001b[39m\n",
      "\u001b[1;31mProgrammingError\u001b[0m: 2055: Cursor is not connected"
     ]
    }
   ],
   "source": [
    "cursor.execute(query)"
   ]
  }
 ],
 "metadata": {
  "kernelspec": {
   "display_name": "Python 3 (ipykernel)",
   "language": "python",
   "name": "python3"
  },
  "language_info": {
   "codemirror_mode": {
    "name": "ipython",
    "version": 3
   },
   "file_extension": ".py",
   "mimetype": "text/x-python",
   "name": "python",
   "nbconvert_exporter": "python",
   "pygments_lexer": "ipython3",
   "version": "3.12.2"
  }
 },
 "nbformat": 4,
 "nbformat_minor": 5
}
